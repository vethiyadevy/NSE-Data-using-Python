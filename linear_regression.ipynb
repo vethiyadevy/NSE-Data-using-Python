{
 "cells": [
  {
   "cell_type": "code",
   "execution_count": 28,
   "metadata": {},
   "outputs": [],
   "source": [
    "import pandas as pd\n",
    "df = pd.read_csv ('F:\\Arumugam_J\\spl_ml\\goldprice.csv')"
   ]
  },
  {
   "cell_type": "code",
   "execution_count": 29,
   "metadata": {},
   "outputs": [
    {
     "data": {
      "text/html": [
       "<div>\n",
       "<style scoped>\n",
       "    .dataframe tbody tr th:only-of-type {\n",
       "        vertical-align: middle;\n",
       "    }\n",
       "\n",
       "    .dataframe tbody tr th {\n",
       "        vertical-align: top;\n",
       "    }\n",
       "\n",
       "    .dataframe thead th {\n",
       "        text-align: right;\n",
       "    }\n",
       "</style>\n",
       "<table border=\"1\" class=\"dataframe\">\n",
       "  <thead>\n",
       "    <tr style=\"text-align: right;\">\n",
       "      <th></th>\n",
       "      <th>sno</th>\n",
       "      <th>Date</th>\n",
       "      <th>x</th>\n",
       "      <th>y</th>\n",
       "    </tr>\n",
       "  </thead>\n",
       "  <tbody>\n",
       "    <tr>\n",
       "      <th>0</th>\n",
       "      <td>1</td>\n",
       "      <td>01 February 2021</td>\n",
       "      <td>1857.36</td>\n",
       "      <td>1836.48</td>\n",
       "    </tr>\n",
       "    <tr>\n",
       "      <th>1</th>\n",
       "      <td>2</td>\n",
       "      <td>02 February 2021</td>\n",
       "      <td>1836.48</td>\n",
       "      <td>1834.36</td>\n",
       "    </tr>\n",
       "    <tr>\n",
       "      <th>2</th>\n",
       "      <td>3</td>\n",
       "      <td>03 February 2021</td>\n",
       "      <td>1834.36</td>\n",
       "      <td>1795.54</td>\n",
       "    </tr>\n",
       "    <tr>\n",
       "      <th>3</th>\n",
       "      <td>4</td>\n",
       "      <td>04 February 2021</td>\n",
       "      <td>1795.54</td>\n",
       "      <td>1814.25</td>\n",
       "    </tr>\n",
       "    <tr>\n",
       "      <th>4</th>\n",
       "      <td>5</td>\n",
       "      <td>05 February 2021</td>\n",
       "      <td>1814.25</td>\n",
       "      <td>1830.61</td>\n",
       "    </tr>\n",
       "    <tr>\n",
       "      <th>5</th>\n",
       "      <td>6</td>\n",
       "      <td>08 February 2021</td>\n",
       "      <td>1830.61</td>\n",
       "      <td>1836.25</td>\n",
       "    </tr>\n",
       "    <tr>\n",
       "      <th>6</th>\n",
       "      <td>7</td>\n",
       "      <td>09 February 2021</td>\n",
       "      <td>1836.25</td>\n",
       "      <td>1842.08</td>\n",
       "    </tr>\n",
       "    <tr>\n",
       "      <th>7</th>\n",
       "      <td>8</td>\n",
       "      <td>10 February 2021</td>\n",
       "      <td>1842.08</td>\n",
       "      <td>1826.82</td>\n",
       "    </tr>\n",
       "    <tr>\n",
       "      <th>8</th>\n",
       "      <td>9</td>\n",
       "      <td>11 February 2021</td>\n",
       "      <td>1826.82</td>\n",
       "      <td>1824.77</td>\n",
       "    </tr>\n",
       "    <tr>\n",
       "      <th>9</th>\n",
       "      <td>10</td>\n",
       "      <td>12 February 2021</td>\n",
       "      <td>1824.77</td>\n",
       "      <td>1818.73</td>\n",
       "    </tr>\n",
       "    <tr>\n",
       "      <th>10</th>\n",
       "      <td>11</td>\n",
       "      <td>15 February 2021</td>\n",
       "      <td>1818.73</td>\n",
       "      <td>1788.48</td>\n",
       "    </tr>\n",
       "    <tr>\n",
       "      <th>11</th>\n",
       "      <td>12</td>\n",
       "      <td>16 February 2021</td>\n",
       "      <td>1788.48</td>\n",
       "      <td>1778.27</td>\n",
       "    </tr>\n",
       "    <tr>\n",
       "      <th>12</th>\n",
       "      <td>13</td>\n",
       "      <td>17 February 2021</td>\n",
       "      <td>1778.27</td>\n",
       "      <td>1771.52</td>\n",
       "    </tr>\n",
       "    <tr>\n",
       "      <th>13</th>\n",
       "      <td>14</td>\n",
       "      <td>18 February 2021</td>\n",
       "      <td>1771.52</td>\n",
       "      <td>1784.28</td>\n",
       "    </tr>\n",
       "    <tr>\n",
       "      <th>14</th>\n",
       "      <td>15</td>\n",
       "      <td>19 February 2021</td>\n",
       "      <td>1784.28</td>\n",
       "      <td>1810.67</td>\n",
       "    </tr>\n",
       "    <tr>\n",
       "      <th>15</th>\n",
       "      <td>16</td>\n",
       "      <td>22 February 2021</td>\n",
       "      <td>1810.67</td>\n",
       "      <td>1805.99</td>\n",
       "    </tr>\n",
       "    <tr>\n",
       "      <th>16</th>\n",
       "      <td>17</td>\n",
       "      <td>23 February 2021</td>\n",
       "      <td>1805.99</td>\n",
       "      <td>1803.10</td>\n",
       "    </tr>\n",
       "    <tr>\n",
       "      <th>17</th>\n",
       "      <td>18</td>\n",
       "      <td>24 February 2021</td>\n",
       "      <td>1803.10</td>\n",
       "      <td>1770.69</td>\n",
       "    </tr>\n",
       "    <tr>\n",
       "      <th>18</th>\n",
       "      <td>19</td>\n",
       "      <td>25 February 2021</td>\n",
       "      <td>1770.69</td>\n",
       "      <td>1734.78</td>\n",
       "    </tr>\n",
       "  </tbody>\n",
       "</table>\n",
       "</div>"
      ],
      "text/plain": [
       "    sno              Date        x        y\n",
       "0     1  01 February 2021  1857.36  1836.48\n",
       "1     2  02 February 2021  1836.48  1834.36\n",
       "2     3  03 February 2021  1834.36  1795.54\n",
       "3     4  04 February 2021  1795.54  1814.25\n",
       "4     5  05 February 2021  1814.25  1830.61\n",
       "5     6  08 February 2021  1830.61  1836.25\n",
       "6     7  09 February 2021  1836.25  1842.08\n",
       "7     8  10 February 2021  1842.08  1826.82\n",
       "8     9  11 February 2021  1826.82  1824.77\n",
       "9    10  12 February 2021  1824.77  1818.73\n",
       "10   11  15 February 2021  1818.73  1788.48\n",
       "11   12  16 February 2021  1788.48  1778.27\n",
       "12   13  17 February 2021  1778.27  1771.52\n",
       "13   14  18 February 2021  1771.52  1784.28\n",
       "14   15  19 February 2021  1784.28  1810.67\n",
       "15   16  22 February 2021  1810.67  1805.99\n",
       "16   17  23 February 2021  1805.99  1803.10\n",
       "17   18  24 February 2021  1803.10  1770.69\n",
       "18   19  25 February 2021  1770.69  1734.78"
      ]
     },
     "execution_count": 29,
     "metadata": {},
     "output_type": "execute_result"
    }
   ],
   "source": [
    "df"
   ]
  },
  {
   "cell_type": "code",
   "execution_count": 30,
   "metadata": {},
   "outputs": [],
   "source": [
    "x=df.iloc[:, 2:3].values\n",
    "y=df.iloc[:, 3:4].values"
   ]
  },
  {
   "cell_type": "code",
   "execution_count": 31,
   "metadata": {},
   "outputs": [
    {
     "data": {
      "text/plain": [
       "array([[1857.36],\n",
       "       [1836.48],\n",
       "       [1834.36],\n",
       "       [1795.54],\n",
       "       [1814.25],\n",
       "       [1830.61],\n",
       "       [1836.25],\n",
       "       [1842.08],\n",
       "       [1826.82],\n",
       "       [1824.77],\n",
       "       [1818.73],\n",
       "       [1788.48],\n",
       "       [1778.27],\n",
       "       [1771.52],\n",
       "       [1784.28],\n",
       "       [1810.67],\n",
       "       [1805.99],\n",
       "       [1803.1 ],\n",
       "       [1770.69]])"
      ]
     },
     "execution_count": 31,
     "metadata": {},
     "output_type": "execute_result"
    }
   ],
   "source": [
    "x"
   ]
  },
  {
   "cell_type": "code",
   "execution_count": 32,
   "metadata": {},
   "outputs": [
    {
     "data": {
      "text/plain": [
       "array([[1836.48],\n",
       "       [1834.36],\n",
       "       [1795.54],\n",
       "       [1814.25],\n",
       "       [1830.61],\n",
       "       [1836.25],\n",
       "       [1842.08],\n",
       "       [1826.82],\n",
       "       [1824.77],\n",
       "       [1818.73],\n",
       "       [1788.48],\n",
       "       [1778.27],\n",
       "       [1771.52],\n",
       "       [1784.28],\n",
       "       [1810.67],\n",
       "       [1805.99],\n",
       "       [1803.1 ],\n",
       "       [1770.69],\n",
       "       [1734.78]])"
      ]
     },
     "execution_count": 32,
     "metadata": {},
     "output_type": "execute_result"
    }
   ],
   "source": [
    "y"
   ]
  },
  {
   "cell_type": "code",
   "execution_count": 33,
   "metadata": {},
   "outputs": [
    {
     "data": {
      "text/plain": [
       "LinearRegression()"
      ]
     },
     "execution_count": 33,
     "metadata": {},
     "output_type": "execute_result"
    }
   ],
   "source": [
    "from sklearn.linear_model import LinearRegression\n",
    "regressor = LinearRegression()\n",
    "regressor.fit(x, y)"
   ]
  },
  {
   "cell_type": "code",
   "execution_count": 34,
   "metadata": {},
   "outputs": [
    {
     "data": {
      "text/plain": [
       "array([[0.85955016]])"
      ]
     },
     "execution_count": 34,
     "metadata": {},
     "output_type": "execute_result"
    }
   ],
   "source": [
    "regressor.coef_"
   ]
  },
  {
   "cell_type": "code",
   "execution_count": 35,
   "metadata": {},
   "outputs": [
    {
     "data": {
      "text/plain": [
       "array([248.06016893])"
      ]
     },
     "execution_count": 35,
     "metadata": {},
     "output_type": "execute_result"
    }
   ],
   "source": [
    "regressor.intercept_"
   ]
  },
  {
   "cell_type": "code",
   "execution_count": 36,
   "metadata": {},
   "outputs": [
    {
     "data": {
      "image/png": "[encoded data removed]",
      "text/plain": [
       "<Figure size 432x288 with 1 Axes>"
      ]
     },
     "metadata": {
      "needs_background": "light"
     },
     "output_type": "display_data"
    }
   ],
   "source": [
    "import matplotlib.pyplot as plt\n",
    "plt.scatter(x, y, color = 'red')\n",
    "plt.plot(x, regressor.predict(x), color = 'blue')\n",
    "plt.title('gold prediction')\n",
    "plt.xlabel('x')\n",
    "plt.ylabel('y')\n",
    "plt.show()"
   ]
  },
  {
   "cell_type": "code",
   "execution_count": 37,
   "metadata": {},
   "outputs": [
    {
     "data": {
      "text/plain": [
       "array([[1795.25045139]])"
      ]
     },
     "execution_count": 37,
     "metadata": {},
     "output_type": "execute_result"
    }
   ],
   "source": [
    "regressor.predict([[1800]])"
   ]
  }
 ],
 "metadata": {
  "kernelspec": {
   "display_name": "Python 3",
   "language": "python",
   "name": "python3"
  },
  "language_info": {
   "codemirror_mode": {
    "name": "ipython",
    "version": 3
   },
   "file_extension": ".py",
   "mimetype": "text/x-python",
   "name": "python",
   "nbconvert_exporter": "python",
   "pygments_lexer": "ipython3",
   "version": "3.8.5"
  }
 },
 "nbformat": 4,
 "nbformat_minor": 4
}
